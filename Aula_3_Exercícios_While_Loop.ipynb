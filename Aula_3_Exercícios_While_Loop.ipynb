{
  "nbformat": 4,
  "nbformat_minor": 0,
  "metadata": {
    "colab": {
      "provenance": [],
      "authorship_tag": "ABX9TyO4PZsiPmTR7DBUOw+tYOIK",
      "include_colab_link": true
    },
    "kernelspec": {
      "name": "python3",
      "display_name": "Python 3"
    },
    "language_info": {
      "name": "python"
    }
  },
  "cells": [
    {
      "cell_type": "markdown",
      "metadata": {
        "id": "view-in-github",
        "colab_type": "text"
      },
      "source": [
        "<a href=\"https://colab.research.google.com/github/AMorlin/lets_code_diversidadetech_coding_tank/blob/main/Aula_3_Exerc%C3%ADcios_While_Loop.ipynb\" target=\"_parent\"><img src=\"https://colab.research.google.com/assets/colab-badge.svg\" alt=\"Open In Colab\"/></a>"
      ]
    },
    {
      "cell_type": "markdown",
      "source": [
        "**Questão #1**\n",
        "\n",
        "Faça um script que peça para um usuário digitar um número e que só finaliza quando o usuário digitar 0."
      ],
      "metadata": {
        "id": "yaomRTegEhK9"
      }
    },
    {
      "cell_type": "code",
      "source": [
        "numero = int(input(\"Digite um número: \"))\n",
        "\n",
        "while numero != 0:\n",
        "    numero = int(input(f\"Digite um número. Para sair digite 0 (zero): \"))\n",
        "\n"
      ],
      "metadata": {
        "colab": {
          "base_uri": "https://localhost:8080/"
        },
        "id": "NmDYEiATFHrg",
        "outputId": "aed8a60f-e0e7-4429-f1a5-4a17694042a9"
      },
      "execution_count": null,
      "outputs": [
        {
          "name": "stdout",
          "output_type": "stream",
          "text": [
            "Digite um número: 10\n",
            "Digite um número. Para sair digite 0 (zero): 2\n",
            "Digite um número. Para sair digite 0 (zero): 5\n",
            "Digite um número. Para sair digite 0 (zero): 5\n",
            "Digite um número. Para sair digite 0 (zero): 5\n",
            "Digite um número. Para sair digite 0 (zero): 5\n",
            "Digite um número. Para sair digite 0 (zero): 0\n"
          ]
        }
      ]
    },
    {
      "cell_type": "markdown",
      "source": [
        "**Questão #2**\n",
        "\n",
        "Faça um script que peça para o usuário digitar a idade, o salário e o sexo de uma pessoa até que as entradas digitadas sejam válidas.\n",
        "\n",
        "Idade: entre 0 e 150;\n",
        "Salário: maior que 0;\n",
        "Gênero: M, F ou Outro.\n",
        "Por último imprima os dados recebidos do usuário."
      ],
      "metadata": {
        "id": "cobrlD4tEmeW"
      }
    },
    {
      "cell_type": "code",
      "source": [
        "idade = int(input(\"Digite a idade: \"))\n",
        "\n",
        "while (idade < 0) or (idade > 150):\n",
        "    print(\"Voce deve ter entre 0 e 150 anos: \")\n",
        "    idade = int(input(\"Digite novamente sua idade: \"))\n",
        "\n",
        "salario = float(input(\"Digite o salario: \"))\n",
        "\n",
        "while (salario<0):\n",
        "    print(\"O salário precisa ser maior que 0: \")\n",
        "    salario = int(input(\"Digite novamente o seu salário: \"))\n",
        "\n",
        "sexo = input(\"Digite o sexo  'm' para masculino, 'f' para feminino ou 'o' para outro): \")\n",
        "\n",
        "while (sexo!= 'f') and (sexo!='m') and (sexo!='o'):\n",
        "    sexo = input(\"O sexo deve ser 'm'asculino, 'f'eminino ou 'o'utro: \")\n",
        "\n"
      ],
      "metadata": {
        "colab": {
          "base_uri": "https://localhost:8080/"
        },
        "id": "8-4VSyXaEmFg",
        "outputId": "91748d42-596d-42ee-a00c-e2d87b5c99bb"
      },
      "execution_count": null,
      "outputs": [
        {
          "name": "stdout",
          "output_type": "stream",
          "text": [
            "Digite a idade: -1\n",
            "Voce deve ter entre 0 e 150 anos: \n",
            "Digite novamente sua idade: 160\n",
            "Voce deve ter entre 0 e 150 anos: \n",
            "Digite novamente sua idade: 1\n",
            "Digite o salario: -1\n",
            "O salário precisa ser maior que 0: \n",
            "Digite novamente o seu salário: -1\n",
            "O salário precisa ser maior que 0: \n",
            "Digite novamente o seu salário: 10\n",
            "Digite o sexo  'm' para masculino, 'f' para feminino ou 'o' para outro): t\n",
            "O sexo deve ser 'm'asculino, 'f'eminino ou 'o'utro: t\n",
            "O sexo deve ser 'm'asculino, 'f'eminino ou 'o'utro: m\n"
          ]
        }
      ]
    },
    {
      "cell_type": "markdown",
      "source": [
        "**Questão #3**\n",
        "\n",
        "Faça um script que peça ao usuário para digitar um número n e some todos os números de 1 a n."
      ],
      "metadata": {
        "id": "TTVbzBxmE6V6"
      }
    },
    {
      "cell_type": "code",
      "source": [
        "numero = int(input(\"Digite um número: \"))\n",
        "soma = 0\n",
        "contador = 1\n",
        "\n",
        "while contador <= numero: \n",
        "    soma +=contador\n",
        "    contador += 1\n",
        "print(f\"A soma dos números entre 1 a {numero} é {soma}.\")"
      ],
      "metadata": {
        "colab": {
          "base_uri": "https://localhost:8080/"
        },
        "id": "1gI5Rt_wScag",
        "outputId": "465417cc-6f87-4c24-e0ef-4a1dd6aec4cf"
      },
      "execution_count": null,
      "outputs": [
        {
          "output_type": "stream",
          "name": "stdout",
          "text": [
            "Digite um número: 4\n",
            "A soma dos números entre 1 a 4 é 10.\n"
          ]
        },
        {
          "output_type": "execute_result",
          "data": {
            "text/plain": [
              "True"
            ]
          },
          "metadata": {},
          "execution_count": 39
        }
      ]
    },
    {
      "cell_type": "markdown",
      "source": [
        "**Questão #4**\n",
        "\n",
        "Faça um script que peça para um usuário digitar um número e que só finaliza quando o usuário digitar 0. Ao final imprima a soma de todos os números digitados."
      ],
      "metadata": {
        "id": "R8M05xYgE-Ca"
      }
    },
    {
      "cell_type": "code",
      "source": [
        "numero = int(input(\"Digite um número: \"))\n",
        "soma = 0\n",
        "\n",
        "while numero != 0: \n",
        "    soma +=numero\n",
        "\n",
        "    numero = int(input(\"Digite outro número ou 0 para sair: \"))\n",
        "print(f\"A soma dos números digitados é: {soma}.\")"
      ],
      "metadata": {
        "colab": {
          "base_uri": "https://localhost:8080/"
        },
        "id": "s5wNXhPCZNiZ",
        "outputId": "4a3cebe8-f39e-4860-cc23-f605a46d26a7"
      },
      "execution_count": null,
      "outputs": [
        {
          "output_type": "stream",
          "name": "stdout",
          "text": [
            "Digite um número: 100\n",
            "Digite outro número ou 0 para sair: 100\n",
            "Digite outro número ou 0 para sair: 100\n",
            "Digite outro número ou 0 para sair: 100\n",
            "Digite outro número ou 0 para sair: 100\n",
            "Digite outro número ou 0 para sair: 0\n",
            "A soma dos números digitados é: 500.\n"
          ]
        }
      ]
    }
  ]
}