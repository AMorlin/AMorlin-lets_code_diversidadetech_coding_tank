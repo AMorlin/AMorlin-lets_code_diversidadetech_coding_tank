{
  "nbformat": 4,
  "nbformat_minor": 0,
  "metadata": {
    "colab": {
      "provenance": [],
      "collapsed_sections": [],
      "authorship_tag": "ABX9TyPVQznPx7iJ2KzM3UVehmBN",
      "include_colab_link": true
    },
    "kernelspec": {
      "name": "python3",
      "display_name": "Python 3"
    },
    "language_info": {
      "name": "python"
    }
  },
  "cells": [
    {
      "cell_type": "markdown",
      "metadata": {
        "id": "view-in-github",
        "colab_type": "text"
      },
      "source": [
        "<a href=\"https://colab.research.google.com/github/AMorlin/lets_code_diversidadetech_coding_tank/blob/main/Aula_3_Exerc%C3%ADcios_LC_%7C_While.ipynb\" target=\"_parent\"><img src=\"https://colab.research.google.com/assets/colab-badge.svg\" alt=\"Open In Colab\"/></a>"
      ]
    },
    {
      "cell_type": "markdown",
      "source": [
        "**Questão #1**\n",
        "\n",
        "Faça um programa que peça ao usuário um número e imprima todos os números de um até o número dado.\n",
        "\n",
        "Exemplo:\n",
        "\n",
        "digite: 5\n",
        "\n",
        "imprime: 1 2 3 4 5"
      ],
      "metadata": {
        "id": "WXM4p18Ia_P9"
      }
    },
    {
      "cell_type": "code",
      "execution_count": null,
      "metadata": {
        "colab": {
          "base_uri": "https://localhost:8080/"
        },
        "id": "HfcjLxDQa2gC",
        "outputId": "66867425-9637-4047-b98d-2c15b2a36a80"
      },
      "outputs": [
        {
          "output_type": "stream",
          "name": "stdout",
          "text": [
            "Digite um número: 50\n",
            "1234567891011121314151617181920212223242526272829303132333435363738394041424344454647484950\n"
          ]
        }
      ],
      "source": [
        "numero = int(input(\"Digite um número: \"))\n",
        "sequencia = str()\n",
        "contador = 1\n",
        "\n",
        "while contador <= numero: \n",
        "    \n",
        "    sequencia += str(contador)\n",
        "    contador += 1\n",
        "\n",
        "print(sequencia)\n"
      ]
    },
    {
      "cell_type": "markdown",
      "source": [
        "**Questão #2**\n",
        "\n",
        "Peça ao usuário para digitar um número e imprima o fatorial de n."
      ],
      "metadata": {
        "id": "w_usMQf1LUfn"
      }
    },
    {
      "cell_type": "code",
      "source": [
        "numero = int(input(\"Digite um número: \"))\n",
        "fatorial = 1\n",
        "contador = numero\n",
        "\n",
        "while contador > 1:\n",
        "    \n",
        "    fatorial *=  contador\n",
        "    contador -=1\n",
        "\n",
        "print(f\"O fatorial de {numero} é igual a: {fatorial}\")"
      ],
      "metadata": {
        "colab": {
          "base_uri": "https://localhost:8080/"
        },
        "id": "fxTSqweaLWki",
        "outputId": "e5cff586-b4f7-4ef2-ec54-7c330d3567ac"
      },
      "execution_count": null,
      "outputs": [
        {
          "output_type": "stream",
          "name": "stdout",
          "text": [
            "Digite um número: 6\n",
            "O fatorial de 6 é igual a: 720\n"
          ]
        }
      ]
    },
    {
      "cell_type": "markdown",
      "source": [
        "**Questão #3**\n",
        "\n",
        "Peça ao usuário para digitar um número N e some todos os números de 1 a N utilizando o laço de repetição while."
      ],
      "metadata": {
        "id": "FND2Nj-PPcMJ"
      }
    },
    {
      "cell_type": "code",
      "source": [
        "numero = int(input(\"Digite um número: \"))\n",
        "soma = 0\n",
        "contador = 1\n",
        "\n",
        "while contador <= numero: \n",
        "    soma += contador\n",
        "    contador +=1\n",
        "\n",
        "print(f\"A somta de 1 a {numero} é {soma}\")"
      ],
      "metadata": {
        "colab": {
          "base_uri": "https://localhost:8080/"
        },
        "id": "MY0HTmkVRVS2",
        "outputId": "840d52a2-29cc-450b-b73b-b39e8bb3dfd9"
      },
      "execution_count": null,
      "outputs": [
        {
          "output_type": "stream",
          "name": "stdout",
          "text": [
            "Digite um número: 4\n",
            "A somta de 1 a 4 é 10\n"
          ]
        }
      ]
    },
    {
      "cell_type": "markdown",
      "source": [
        "**Questão #4**\n",
        "\n",
        "Faça um programa que imprima a tabuada do 9 (de 9x1 a 9x10) usando loops."
      ],
      "metadata": {
        "id": "t4ilZM0QSe7X"
      }
    },
    {
      "cell_type": "code",
      "source": [
        "contador = 1\n",
        "num = int(input('Digite um número: '))\n",
        "while contador <= 10: \n",
        "    tabuada = num*contador\n",
        "    print(f\"{num} x {contador} = \", (num*contador))\n",
        "    contador += 1"
      ],
      "metadata": {
        "colab": {
          "base_uri": "https://localhost:8080/"
        },
        "id": "gcoyCmj8ShZt",
        "outputId": "c4fca2b8-5f39-4f64-a973-1c834fade80d"
      },
      "execution_count": null,
      "outputs": [
        {
          "output_type": "stream",
          "name": "stdout",
          "text": [
            "Digite um número: 10\n",
            "10 x 1 =  10\n",
            "10 x 2 =  20\n",
            "10 x 3 =  30\n",
            "10 x 4 =  40\n",
            "10 x 5 =  50\n",
            "10 x 6 =  60\n",
            "10 x 7 =  70\n",
            "10 x 8 =  80\n",
            "10 x 9 =  90\n",
            "10 x 10 =  100\n"
          ]
        }
      ]
    },
    {
      "cell_type": "markdown",
      "source": [
        "**Questão #5**\n",
        "\n",
        "Faça um programa, usando loops, que peça para um usuário digitar um número e que só finaliza quando o usuário digitar 0. Ao final imprima a soma de todos os números digitados."
      ],
      "metadata": {
        "id": "D3pqBxjziDN9"
      }
    },
    {
      "cell_type": "code",
      "source": [
        "numero = int(input(\"Digite um número: \"))\n",
        "soma = 0\n",
        "numeros = str()\n",
        "\n",
        "while numero != 0:\n",
        "    soma += numero\n",
        "    numero = int(input(\"Digite um número: \"))\n",
        "\n",
        "print(f\"A soma de todos os números é: {soma}\")\n",
        "\n"
      ],
      "metadata": {
        "colab": {
          "base_uri": "https://localhost:8080/"
        },
        "id": "CTCK43yDiFyd",
        "outputId": "c7d8dfa5-4568-4b50-ceb7-51c071eda622"
      },
      "execution_count": null,
      "outputs": [
        {
          "output_type": "stream",
          "name": "stdout",
          "text": [
            "Digite um número: 1\n",
            "Digite um número: 2\n",
            "Digite um número: 3\n",
            "Digite um número: 4\n",
            "Digite um número: 5\n",
            "Digite um número: 6\n",
            "Digite um número: 0\n",
            "A soma de todos os números é: 21\n"
          ]
        }
      ]
    },
    {
      "cell_type": "markdown",
      "source": [
        "**Questão #6**\n",
        "\n",
        "Faça um programa que sorteia um número N e peça para o usuário adivinhar o número sorteado. A cada resposta errada, o seu programa deve imprimir um aviso dizendo que a resposta está errada e pedir novamente uma resposta ao usuário.\n",
        "\n",
        "Para a realização desse exercício, utilize alguma função da biblioteca random (e.g. randint())."
      ],
      "metadata": {
        "id": "IuHXmCd3bvpb"
      }
    },
    {
      "cell_type": "code",
      "source": [
        "from random import randint\n",
        "numero = int(input(\"Até qual número você quer sortear? \"))\n",
        "sorteado = randint(1, (numero))\n",
        "\n",
        "palpite = int(input(\"Qual o número foi sorteado? \"))\n",
        "\n",
        "while palpite != sorteado:\n",
        "    palpite = int(input(\"Tente novamente: \"))\n",
        "\n",
        "print(\"Parabéns, você acertou!\")"
      ],
      "metadata": {
        "colab": {
          "base_uri": "https://localhost:8080/"
        },
        "id": "5CerRQhMbyM8",
        "outputId": "6e9efe93-369f-453e-9a60-33fa12d05d47"
      },
      "execution_count": null,
      "outputs": [
        {
          "output_type": "stream",
          "name": "stdout",
          "text": [
            "Até qual número você quer sortear? 2\n",
            "Qual o número foi sorteado? 1\n",
            "Parabéns, você acertou!\n"
          ]
        }
      ]
    },
    {
      "cell_type": "markdown",
      "source": [
        "**Questão #8**\n",
        "\n",
        "**Desafio!** - Calcule a soma de até mil termos da série 1 + 1/2 + 1/4 + 1/8 + 1/16 + ...\n",
        "\n",
        "Dica: Use três variáveis:\n",
        "\n",
        "• um contador, que começa em zero;\n",
        "\n",
        "• uma variável para a soma de todos os termos, que também começa em zero;\n",
        "\n",
        "• uma variável para cada termo, que começa em 1 e a cada loop é dividida por 2.\n",
        "\n",
        "A repetição da soma de mil termos pode ser feita com a função while contador < 1000."
      ],
      "metadata": {
        "id": "4H3tCCRzf4Co"
      }
    },
    {
      "cell_type": "code",
      "source": [
        "soma_termos = 0\n",
        "termos = 1\n",
        "contador = 0\n",
        "\n",
        "while contador < 1000:\n",
        "    soma_termos += (termos)\n",
        "    termos = (termos/2)\n",
        "    contador +=1\n",
        "\n",
        "print(soma_termos)"
      ],
      "metadata": {
        "colab": {
          "base_uri": "https://localhost:8080/"
        },
        "id": "TNdTtVsnf-FL",
        "outputId": "b8c3cef1-3399-4f7c-cd52-88cf7dae449a"
      },
      "execution_count": null,
      "outputs": [
        {
          "output_type": "stream",
          "name": "stdout",
          "text": [
            "2.0\n"
          ]
        }
      ]
    },
    {
      "cell_type": "code",
      "source": [
        "print(1 + 1/2 + 1/4 + 1/8 + 1/16 + 1/32 + 1/64 + 1/128 + 1/256 + 1/512 + 1/1024 + 1/2048 + 1/4096 + 1/8192 + 1/16384)\n"
      ],
      "metadata": {
        "colab": {
          "base_uri": "https://localhost:8080/"
        },
        "id": "Dh6A0IrAgg78",
        "outputId": "a200806b-50c1-446f-c955-6c3d12a2cc9d"
      },
      "execution_count": null,
      "outputs": [
        {
          "output_type": "stream",
          "name": "stdout",
          "text": [
            "1.99993896484375\n"
          ]
        }
      ]
    },
    {
      "cell_type": "markdown",
      "source": [
        "**Questão #9**\n",
        "\n",
        "**Super Desafio!** - Calcule a soma de mil termos dos inversos dos fatoriais: 1/(1!) + 1/(2!) + 1/(3!) + 1/(4!) + ...\n",
        "\n",
        "Dica: Assim como no exercício anterior use três variáveis: um contador; uma variável para a soma; e uma variável para os termos. Lembre-se de que 4! = 4*3*2*1 que também é igual a 4*3!."
      ],
      "metadata": {
        "id": "SxddMdkOpVy9"
      }
    },
    {
      "cell_type": "code",
      "source": [
        "soma_termos = 0\n",
        "termos = 1\n",
        "contador = 0\n",
        "\n",
        "while contador < 1000:\n",
        "    \n",
        "    contador +=1\n",
        "    termos = (contador * termos)\n",
        "    soma_termos += (1/termos)\n",
        "\n",
        "print(soma_termos)"
      ],
      "metadata": {
        "colab": {
          "base_uri": "https://localhost:8080/"
        },
        "id": "Zme-NLmkJ9Ak",
        "outputId": "f7cffb54-8f06-4c9e-fd36-fc08817136bf"
      },
      "execution_count": null,
      "outputs": [
        {
          "output_type": "stream",
          "name": "stdout",
          "text": [
            "1.7182818284590455\n"
          ]
        }
      ]
    },
    {
      "cell_type": "code",
      "source": [
        "soma_termos = float(0)\n",
        "termos = float(1)\n",
        "contador = 0\n",
        "\n",
        "while contador < 1000:\n",
        "    soma_termos += (termos)\n",
        "    termos = 1/(termos*termos)\n",
        "    contador +=1\n",
        "\n",
        "print(soma_termos)"
      ],
      "metadata": {
        "colab": {
          "base_uri": "https://localhost:8080/"
        },
        "id": "u0cpwRXdpZyC",
        "outputId": "a22b74e3-bdf5-4e15-af20-bd725f170ea7"
      },
      "execution_count": null,
      "outputs": [
        {
          "output_type": "stream",
          "name": "stdout",
          "text": [
            "1000.0\n"
          ]
        }
      ]
    },
    {
      "cell_type": "code",
      "source": [
        "soma_termos = float(0)\n",
        "termos = float(1)\n",
        "contador = 0\n",
        "n = 1\n",
        "while contador < 1000:\n",
        "    soma_termos += (1/termos)\n",
        "    contador +=1\n",
        "    n = (contador * n)\n",
        "    termos = (1/termos)\n",
        "    \n",
        "print(soma_termos)"
      ],
      "metadata": {
        "id": "U_P-3MPS56cj"
      },
      "execution_count": null,
      "outputs": []
    },
    {
      "cell_type": "code",
      "source": [
        "print(f\"{1} {1/2} {1/6} {1/24} {1/120} {1/720} {1/5040} {1/40320} {1/362880} + {1/3628800}\")\n"
      ],
      "metadata": {
        "id": "1ZmkyW_lukQo",
        "colab": {
          "base_uri": "https://localhost:8080/"
        },
        "outputId": "e0c806cc-fa8d-4870-ef57-9e454f86dc31"
      },
      "execution_count": null,
      "outputs": [
        {
          "output_type": "stream",
          "name": "stdout",
          "text": [
            "1 0.5 0.16666666666666666 0.041666666666666664 0.008333333333333333 0.001388888888888889 0.0001984126984126984 2.48015873015873e-05 2.7557319223985893e-06 + 2.755731922398589e-07\n"
          ]
        }
      ]
    },
    {
      "cell_type": "code",
      "source": [
        "numero = int(\"Numero: \")\n",
        "\n",
        "while "
      ],
      "metadata": {
        "colab": {
          "base_uri": "https://localhost:8080/"
        },
        "id": "N3GuStieArKU",
        "outputId": "68b82997-b18a-4261-ea7e-53e7a9564100"
      },
      "execution_count": null,
      "outputs": [
        {
          "output_type": "execute_result",
          "data": {
            "text/plain": [
              "False"
            ]
          },
          "metadata": {},
          "execution_count": 1
        }
      ]
    },
    {
      "cell_type": "code",
      "source": [
        "from random import randint\n",
        "\n",
        "sorteado = randint(1, 10)\n",
        "numero = int(input(\"Qual o número sorteado?\"))\n",
        "\n",
        "while numero != sorteado:\n",
        "    numero = int(input(\"Tente novamente: \"))\n",
        "\n",
        "print(\"Parabéns, você acertou!\")"
      ],
      "metadata": {
        "colab": {
          "base_uri": "https://localhost:8080/"
        },
        "id": "vNNK9018QopO",
        "outputId": "77e29152-cb57-43ad-d6ca-ddc16edad205"
      },
      "execution_count": null,
      "outputs": [
        {
          "output_type": "stream",
          "name": "stdout",
          "text": [
            "Até que número vc quer?10\n",
            "Tente novamente2\n",
            "Tente novamente3\n",
            "Tente novamente4\n",
            "Tente novamente5\n",
            "Parabéns, você acertou\n"
          ]
        }
      ]
    },
    {
      "cell_type": "code",
      "source": [],
      "metadata": {
        "colab": {
          "base_uri": "https://localhost:8080/"
        },
        "id": "nDzdJXoaULnA",
        "outputId": "3cd53edf-c9db-4152-acc1-92077dbef738"
      },
      "execution_count": null,
      "outputs": [
        {
          "output_type": "stream",
          "name": "stdout",
          "text": [
            "Até qual número você quer sortear?20\n",
            "Qual o número foi sorteado?8\n",
            "Tente novamente: 6\n",
            "Tente novamente: 7\n",
            "Tente novamente: 15\n",
            "Tente novamente: 19\n",
            "Tente novamente: 11\n",
            "Tente novamente: 2\n",
            "Tente novamente: 7\n",
            "Tente novamente: 20\n",
            "Tente novamente: 14\n",
            "Tente novamente: 1\n",
            "Tente novamente: 4\n",
            "Tente novamente: 13\n",
            "Parabéns, você acertou!\n"
          ]
        }
      ]
    }
  ]
}