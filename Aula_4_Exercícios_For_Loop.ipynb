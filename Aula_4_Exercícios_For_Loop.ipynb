{
  "cells": [
    {
      "cell_type": "markdown",
      "metadata": {
        "id": "view-in-github",
        "colab_type": "text"
      },
      "source": [
        "<a href=\"https://colab.research.google.com/github/AMorlin/lets_code_diversidadetech_coding_tank/blob/main/Aula_4_Exerc%C3%ADcios_For_Loop.ipynb\" target=\"_parent\"><img src=\"https://colab.research.google.com/assets/colab-badge.svg\" alt=\"Open In Colab\"/></a>"
      ]
    },
    {
      "cell_type": "markdown",
      "metadata": {
        "id": "WJnOrnuA5MPb"
      },
      "source": [
        "**Questão #1**\n",
        "\n",
        "Faça um script que imprima na tela todos os pares entre 0 e 1000. Quantos pares existem nesse intervalo?"
      ]
    },
    {
      "cell_type": "code",
      "execution_count": null,
      "metadata": {
        "colab": {
          "base_uri": "https://localhost:8080/"
        },
        "id": "WotOYBm35VDL",
        "outputId": "94f875b5-9b33-4cea-f0da-7abe8896a4d0"
      },
      "outputs": [
        {
          "name": "stdout",
          "output_type": "stream",
          "text": [
            "Entre 0 e 1000 há 500 pares.\n",
            "[0, 2, 4, 6, 8, 10, 12, 14, 16, 18, 20, 22, 24, 26, 28, 30, 32, 34, 36, 38, 40, 42, 44, 46, 48, 50, 52, 54, 56, 58, 60, 62, 64, 66, 68, 70, 72, 74, 76, 78, 80, 82, 84, 86, 88, 90, 92, 94, 96, 98, 100, 102, 104, 106, 108, 110, 112, 114, 116, 118, 120, 122, 124, 126, 128, 130, 132, 134, 136, 138, 140, 142, 144, 146, 148, 150, 152, 154, 156, 158, 160, 162, 164, 166, 168, 170, 172, 174, 176, 178, 180, 182, 184, 186, 188, 190, 192, 194, 196, 198, 200, 202, 204, 206, 208, 210, 212, 214, 216, 218, 220, 222, 224, 226, 228, 230, 232, 234, 236, 238, 240, 242, 244, 246, 248, 250, 252, 254, 256, 258, 260, 262, 264, 266, 268, 270, 272, 274, 276, 278, 280, 282, 284, 286, 288, 290, 292, 294, 296, 298, 300, 302, 304, 306, 308, 310, 312, 314, 316, 318, 320, 322, 324, 326, 328, 330, 332, 334, 336, 338, 340, 342, 344, 346, 348, 350, 352, 354, 356, 358, 360, 362, 364, 366, 368, 370, 372, 374, 376, 378, 380, 382, 384, 386, 388, 390, 392, 394, 396, 398, 400, 402, 404, 406, 408, 410, 412, 414, 416, 418, 420, 422, 424, 426, 428, 430, 432, 434, 436, 438, 440, 442, 444, 446, 448, 450, 452, 454, 456, 458, 460, 462, 464, 466, 468, 470, 472, 474, 476, 478, 480, 482, 484, 486, 488, 490, 492, 494, 496, 498, 500, 502, 504, 506, 508, 510, 512, 514, 516, 518, 520, 522, 524, 526, 528, 530, 532, 534, 536, 538, 540, 542, 544, 546, 548, 550, 552, 554, 556, 558, 560, 562, 564, 566, 568, 570, 572, 574, 576, 578, 580, 582, 584, 586, 588, 590, 592, 594, 596, 598, 600, 602, 604, 606, 608, 610, 612, 614, 616, 618, 620, 622, 624, 626, 628, 630, 632, 634, 636, 638, 640, 642, 644, 646, 648, 650, 652, 654, 656, 658, 660, 662, 664, 666, 668, 670, 672, 674, 676, 678, 680, 682, 684, 686, 688, 690, 692, 694, 696, 698, 700, 702, 704, 706, 708, 710, 712, 714, 716, 718, 720, 722, 724, 726, 728, 730, 732, 734, 736, 738, 740, 742, 744, 746, 748, 750, 752, 754, 756, 758, 760, 762, 764, 766, 768, 770, 772, 774, 776, 778, 780, 782, 784, 786, 788, 790, 792, 794, 796, 798, 800, 802, 804, 806, 808, 810, 812, 814, 816, 818, 820, 822, 824, 826, 828, 830, 832, 834, 836, 838, 840, 842, 844, 846, 848, 850, 852, 854, 856, 858, 860, 862, 864, 866, 868, 870, 872, 874, 876, 878, 880, 882, 884, 886, 888, 890, 892, 894, 896, 898, 900, 902, 904, 906, 908, 910, 912, 914, 916, 918, 920, 922, 924, 926, 928, 930, 932, 934, 936, 938, 940, 942, 944, 946, 948, 950, 952, 954, 956, 958, 960, 962, 964, 966, 968, 970, 972, 974, 976, 978, 980, 982, 984, 986, 988, 990, 992, 994, 996, 998]\n"
          ]
        }
      ],
      "source": [
        "lista_par = []\n",
        "\n",
        "for numeros in range(1000):\n",
        "    if (numeros % 2) == 0:\n",
        "        lista_par.append(numeros)\n",
        "\n",
        "print(f\"Entre 0 e 1000 há {len(lista_par)} pares.\")\n",
        "print(lista_par)"
      ]
    },
    {
      "cell_type": "markdown",
      "metadata": {
        "id": "_jrrviGzLGFw"
      },
      "source": [
        "**Questão #2**\n",
        "\n",
        "Dê um exemplo, e justifique, de um problema que você iria preferir usar o while, e um que você iria preferir usar o for."
      ]
    },
    {
      "cell_type": "code",
      "execution_count": null,
      "metadata": {
        "id": "gTr5KwYzLH_e"
      },
      "outputs": [],
      "source": []
    },
    {
      "cell_type": "markdown",
      "metadata": {
        "id": "toswA5GCLIUG"
      },
      "source": [
        "**Questão #3**\n",
        "\n",
        "Faça um script que informe o fatorial de um número:\n",
        "\n",
        "**Exemplo**\n",
        "input: 5\n",
        "output: 120\n",
        "\n",
        "**Exemplo**\n",
        "input: 3\n",
        "output: 6"
      ]
    },
    {
      "cell_type": "code",
      "execution_count": null,
      "metadata": {
        "colab": {
          "base_uri": "https://localhost:8080/"
        },
        "id": "G-2NIpc1LT92",
        "outputId": "9d459d59-0401-41d0-e80d-2cf61bcd707e"
      },
      "outputs": [
        {
          "output_type": "stream",
          "name": "stdout",
          "text": [
            "Digite um número: 5\n",
            "O fatorial de 5 é igual a: 120\n"
          ]
        }
      ],
      "source": [
        "numero = int(input(\"Digite um número: \"))\n",
        "fatorial = 1\n",
        "contador = numero\n",
        "\n",
        "for x in range(numero):\n",
        "    fatorial *= x + 1\n",
        "\n",
        "#while contador > 1:\n",
        "    \n",
        "#    fatorial *=  contador\n",
        "#    contador -=1\n",
        "\n",
        "print(f\"O fatorial de {numero} é igual a: {fatorial}\")"
      ]
    },
    {
      "cell_type": "markdown",
      "metadata": {
        "id": "aGVIzX7sYnO4"
      },
      "source": [
        "**Questão #4**\n",
        "\n",
        "Informe, de forma decrescente todos os pares entre N (número fornecido pelo usuário) e -N.\n",
        "\n",
        "Exemplo\n",
        "\n",
        "input: 5\n",
        "\n",
        "output: \n",
        "\n",
        "        4\n",
        "        2\n",
        "        0\n",
        "        -2\n",
        "        -4\n",
        "Exemplo\n",
        "\n",
        "input: 3\n",
        "\n",
        "output:\n",
        "\n",
        "        2\n",
        "        0\n",
        "        -2"
      ]
    },
    {
      "cell_type": "code",
      "execution_count": null,
      "metadata": {
        "colab": {
          "base_uri": "https://localhost:8080/"
        },
        "id": "6LSy3fkQpdEG",
        "outputId": "fe0cabef-fc27-4c93-9889-8044cbb6cf27"
      },
      "outputs": [
        {
          "name": "stdout",
          "output_type": "stream",
          "text": [
            "Digite um número: 3\n",
            "2\n",
            "0\n",
            "-2\n"
          ]
        }
      ],
      "source": [
        "numero = int(input(\"Digite um número: \"))\n",
        "lista_par = []\n",
        "\n",
        "for par in list(range(-numero, numero)):\n",
        "\n",
        "    if (par % 2) == 0:\n",
        "        lista_par.append(par)\n",
        "\n",
        "lista_par.reverse()\n",
        "\n",
        "for item in lista_par:\n",
        "    print(item)\n"
      ]
    },
    {
      "cell_type": "markdown",
      "metadata": {
        "id": "csKLqi-6OyBn"
      },
      "source": [
        "**Questão #5**\n",
        "\n",
        "Faça um script que reproduza o padrão usando \"*\" a seguir de acordo com o número de linhas desejadas pelo usuário. Dica: print(5 * '@')\n",
        "\n",
        "Exemplo 1\n",
        "\n",
        "input: 3\n",
        "\n",
        "output: \n",
        "\n",
        "        *\n",
        "        **\n",
        "        ***\n",
        "\n",
        "Exemplo 2\n",
        "\n",
        "input: 5\n",
        "\n",
        "output:\n",
        "\n",
        "        *\n",
        "        **\n",
        "        ***\n",
        "        ****\n",
        "        *****"
      ]
    },
    {
      "cell_type": "code",
      "execution_count": null,
      "metadata": {
        "colab": {
          "base_uri": "https://localhost:8080/"
        },
        "id": "UumTZuf3O1c7",
        "outputId": "6ce5105d-1fe0-4a19-e484-8387628f22f3"
      },
      "outputs": [
        {
          "name": "stdout",
          "output_type": "stream",
          "text": [
            "Digite um número: 0\n",
            "\n"
          ]
        }
      ],
      "source": [
        "numero = int(input(\"Digite um número: \"))\n",
        "\n",
        "contador = 0\n",
        "while contador <= numero:\n",
        "    print(f\"*\" * contador)\n",
        "    contador += 1"
      ]
    },
    {
      "cell_type": "code",
      "execution_count": null,
      "metadata": {
        "colab": {
          "base_uri": "https://localhost:8080/"
        },
        "id": "bSNvHAvmQ9Jl",
        "outputId": "a5defdb1-7bd2-4e59-cb43-cb40dd63fed0"
      },
      "outputs": [
        {
          "name": "stdout",
          "output_type": "stream",
          "text": [
            "Digite um número: 10\n",
            "\n",
            "*\n",
            "**\n",
            "***\n",
            "****\n",
            "*****\n",
            "******\n",
            "*******\n",
            "********\n",
            "*********\n",
            "**********\n"
          ]
        }
      ],
      "source": [
        "numero = int(input(\"Digite um número: \"))\n",
        "\n",
        "for i in range(numero + 1):\n",
        "    print(f\"*\" * i)\n",
        "    "
      ]
    }
  ],
  "metadata": {
    "colab": {
      "collapsed_sections": [],
      "provenance": [],
      "include_colab_link": true
    },
    "kernelspec": {
      "display_name": "Python 3.10.5 64-bit",
      "language": "python",
      "name": "python3"
    },
    "language_info": {
      "codemirror_mode": {
        "name": "ipython",
        "version": 3
      },
      "file_extension": ".py",
      "mimetype": "text/x-python",
      "name": "python",
      "nbconvert_exporter": "python",
      "pygments_lexer": "ipython3",
      "version": "3.10.5"
    },
    "vscode": {
      "interpreter": {
        "hash": "b3569a3ffe6e7cf50228855bc9e68d10d314780287fba35634b733d31f8269f3"
      }
    }
  },
  "nbformat": 4,
  "nbformat_minor": 0
}