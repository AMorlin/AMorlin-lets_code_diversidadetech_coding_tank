{
  "nbformat": 4,
  "nbformat_minor": 0,
  "metadata": {
    "colab": {
      "provenance": [],
      "collapsed_sections": [],
      "authorship_tag": "ABX9TyP4scG+ajF+kNFca3rCEHRN",
      "include_colab_link": true
    },
    "kernelspec": {
      "name": "python3",
      "display_name": "Python 3"
    },
    "language_info": {
      "name": "python"
    }
  },
  "cells": [
    {
      "cell_type": "markdown",
      "metadata": {
        "id": "view-in-github",
        "colab_type": "text"
      },
      "source": [
        "<a href=\"https://colab.research.google.com/github/AMorlin/lets_code_diversidadetech_coding_tank/blob/main/Aula_5_Exerc%C3%ADcios_Fun%C3%A7%C3%B5es.ipynb\" target=\"_parent\"><img src=\"https://colab.research.google.com/assets/colab-badge.svg\" alt=\"Open In Colab\"/></a>"
      ]
    },
    {
      "cell_type": "markdown",
      "source": [
        "**Questão #1**\n",
        "\n",
        "Faça uma função que retorne o reverso de um número inteiro informado. Por exemplo: 127 -> 721."
      ],
      "metadata": {
        "id": "YQLAQIcuBxeD"
      }
    },
    {
      "cell_type": "code",
      "source": [
        "def inverso(numero: int):\n",
        "    numero_invertido = 0\n",
        "\n",
        "    while numero > 0:\n",
        "        numero_invertido *= 10\n",
        "        numero_invertido += numero % 10\n",
        "        numero //= 10\n",
        "\n",
        "    return (numero_invertido)\n"
      ],
      "metadata": {
        "id": "LUtpuDNIB1Rq"
      },
      "execution_count": null,
      "outputs": []
    },
    {
      "cell_type": "code",
      "source": [
        "inverso(1234567890123)"
      ],
      "metadata": {
        "colab": {
          "base_uri": "https://localhost:8080/"
        },
        "id": "zP82SBdLE0nS",
        "outputId": "99593e8b-9967-46b4-c793-8941808eab9b"
      },
      "execution_count": null,
      "outputs": [
        {
          "output_type": "execute_result",
          "data": {
            "text/plain": [
              "3210987654321"
            ]
          },
          "metadata": {},
          "execution_count": 5
        }
      ]
    },
    {
      "cell_type": "markdown",
      "source": [
        "**Questão #2**\n",
        "\n",
        "Faça um programa para imprimir:\n",
        "\n",
        "    1\n",
        "    1   2\n",
        "    1   2   3\n",
        "    .....\n",
        "    1   2   3   ...  n\n",
        "para um n informado pelo usuário. Use uma função que receba um valor n inteiro imprima até a n-ésima linha."
      ],
      "metadata": {
        "id": "RW7lbf1hFmTs"
      }
    },
    {
      "cell_type": "code",
      "source": [
        "def imprime_n(numero: int):\n",
        "    lista = []\n",
        "    for i in range(1, numero+1):\n",
        "        lista.append(i)\n",
        "        print(*lista) "
      ],
      "metadata": {
        "id": "64m1i-HwFpp4"
      },
      "execution_count": null,
      "outputs": []
    },
    {
      "cell_type": "code",
      "source": [
        "imprime_n(12)"
      ],
      "metadata": {
        "colab": {
          "base_uri": "https://localhost:8080/"
        },
        "id": "1vuruI50HbfT",
        "outputId": "f839cd92-0c61-4a44-e6d8-acfb2d1cfe32"
      },
      "execution_count": null,
      "outputs": [
        {
          "output_type": "stream",
          "name": "stdout",
          "text": [
            "1\n",
            "1 2\n",
            "1 2 3\n",
            "1 2 3 4\n",
            "1 2 3 4 5\n",
            "1 2 3 4 5 6\n",
            "1 2 3 4 5 6 7\n",
            "1 2 3 4 5 6 7 8\n",
            "1 2 3 4 5 6 7 8 9\n",
            "1 2 3 4 5 6 7 8 9 10\n",
            "1 2 3 4 5 6 7 8 9 10 11\n",
            "1 2 3 4 5 6 7 8 9 10 11 12\n"
          ]
        }
      ]
    },
    {
      "cell_type": "code",
      "source": [
        "exemplo = [3, 8, 0, 6, 7]\n",
        "\n",
        "# resultado em uma variavel\n",
        "var1 = \"\".join(map(str,exemplo))\n",
        "#resultado : '3 8 0 6 7'\n",
        "#ou diretamente no print\n",
        "\"\".join(map(str,exemplo))\n",
        "\n",
        "print(*exemplo)"
      ],
      "metadata": {
        "colab": {
          "base_uri": "https://localhost:8080/"
        },
        "id": "AQlhKaUvLhw9",
        "outputId": "b903b5e3-f3bf-4a57-cb12-783f3c36c117"
      },
      "execution_count": null,
      "outputs": [
        {
          "output_type": "stream",
          "name": "stdout",
          "text": [
            "3 8 0 6 7\n"
          ]
        }
      ]
    },
    {
      "cell_type": "markdown",
      "source": [
        "**Questão #3**\n",
        "\n",
        "Faça uma função que verifique se um valor é perfeito ou não. Um valor é dito perfeito quando ele é igual a soma dos seus divisores excetuando ele próprio. (Ex: 6 é perfeito, 6 = 1 + 2 + 3, que são seus divisores). A função deve retornar um valor booleano."
      ],
      "metadata": {
        "id": "xgJvddtrMhzx"
      }
    },
    {
      "cell_type": "code",
      "source": [
        "def n_perfeito (numero: int):\n",
        "    soma_divisor = 0\n",
        "    for div in range(1, numero):\n",
        "        \n",
        "        if numero % div == 0:\n",
        "            soma_divisor += div \n",
        "        else:\n",
        "            continue\n",
        "        \n",
        "    if soma_divisor == numero:\n",
        "        return True\n",
        "    else:\n",
        "        return False"
      ],
      "metadata": {
        "id": "MQqK9HNLbCLo"
      },
      "execution_count": null,
      "outputs": []
    },
    {
      "cell_type": "code",
      "source": [
        "n_perfeito(28)"
      ],
      "metadata": {
        "colab": {
          "base_uri": "https://localhost:8080/"
        },
        "id": "xyBnIW8rXtwn",
        "outputId": "5a064727-09ea-4c76-aca5-c6e63d7d6e58"
      },
      "execution_count": null,
      "outputs": [
        {
          "output_type": "execute_result",
          "data": {
            "text/plain": [
              "True"
            ]
          },
          "metadata": {},
          "execution_count": 65
        }
      ]
    },
    {
      "cell_type": "markdown",
      "source": [
        "**Questão #4**\n",
        "\n",
        "Faça um programa com duas funções: uma chamada \"calculaImposto\". A função possui dois parâmetros formais: taxaImposto, que é a quantia de imposto sobre vendas expressa em porcentagem e custo, que é o custo de um item antes do imposto e irá retornar a taxa de imposto. E uma função “alteraValor” que recebe o valor de custo e a taxa de imposto para incluir o imposto sobre vendas e retorna esse novo valor."
      ],
      "metadata": {
        "id": "lFHS9h89hM_6"
      }
    },
    {
      "cell_type": "code",
      "source": [
        "def calculaImposto(taxaImposto: float, custo: float):\n",
        "    taxa_de_imposto = custo * (taxaImposto/100)\n",
        "    return taxa_de_imposto\n",
        "\n",
        "def alteraValor (custo: float, taxaImposto: float):\n",
        "    novovalor = custo + taxaImposto\n",
        "    return novovalor"
      ],
      "metadata": {
        "id": "nWvSoJ9JhSg8"
      },
      "execution_count": null,
      "outputs": []
    },
    {
      "cell_type": "code",
      "source": [
        "custo = float(input(\"Qual o custo do produto? \"))\n",
        "taxaImposto = float(input(\"Qual a taxa de imposto? \"))\n",
        "\n",
        "valor_imposto = calculaImposto(taxaImposto, custo)\n",
        "\n",
        "print(f\"O valor do produto é {alteraValor(custo, valor_imposto)} e você vai pagar {valor_imposto} em impostos\")\n"
      ],
      "metadata": {
        "colab": {
          "base_uri": "https://localhost:8080/"
        },
        "id": "WA6W3MGAkVLn",
        "outputId": "8f53b021-81ff-4930-890c-32c0487298ba"
      },
      "execution_count": null,
      "outputs": [
        {
          "output_type": "stream",
          "name": "stdout",
          "text": [
            "Qual o custo do produto? 1000\n",
            "Qual a taxa de imposto? 10\n",
            "O valor do produto é 1100.0 e você vai pagar 100.0 em impostos\n"
          ]
        }
      ]
    },
    {
      "cell_type": "markdown",
      "source": [
        "**Questão #5**\n",
        "\n",
        "Construa uma função que receba três aqrgumentios (dia, mes e ano em inteiros) e devolva uma string no formato Dia de mesPorExtenso de AAAA."
      ],
      "metadata": {
        "id": "13FoNUY2mYzA"
      }
    },
    {
      "cell_type": "code",
      "source": [
        "def formataData(dia: int, mes: int, ano: int):\n",
        "    meses = [\"janeiro\", \"fevereiro\", \"março\", \"abril\", \"maio\", \"junho\", \"julho\", \"agosto\", \"setembro\", \"outubro\", \"novembro\", \"dezembro\"]\n",
        "    mes -= 1\n",
        "    \n",
        "    return(f\"{dia} de {meses[mes]} de {ano}\")"
      ],
      "metadata": {
        "id": "aPuvUj5JmbIF"
      },
      "execution_count": null,
      "outputs": []
    },
    {
      "cell_type": "code",
      "source": [
        "print(formataData(1, 1, 2022))\n",
        "print(formataData(2, 2, 2022))\n",
        "print(formataData(3, 3, 2022))\n",
        "print(formataData(4, 4, 2022))\n",
        "print(formataData(5, 5, 2022))\n",
        "print(formataData(6, 6, 2022))\n",
        "print(formataData(7, 7, 2022))\n",
        "print(formataData(8, 8, 2022))\n",
        "print(formataData(9, 9, 2022))\n",
        "print(formataData(10, 10, 2022))\n",
        "print(formataData(11, 11, 2022))\n",
        "print(formataData(12, 12, 2022))"
      ],
      "metadata": {
        "colab": {
          "base_uri": "https://localhost:8080/"
        },
        "id": "nEfBFeemiryg",
        "outputId": "2f42faf8-854a-44d5-a57a-cf54ad817033"
      },
      "execution_count": null,
      "outputs": [
        {
          "output_type": "stream",
          "name": "stdout",
          "text": [
            "1 de janeiro de 2022\n",
            "2 de fevereiro de 2022\n",
            "3 de março de 2022\n",
            "4 de abril de 2022\n",
            "5 de maio de 2022\n",
            "6 de junho de 2022\n",
            "7 de julho de 2022\n",
            "8 de agosto de 2022\n",
            "9 de setembro de 2022\n",
            "10 de outubro de 2022\n",
            "11 de novembro de 2022\n",
            "12 de dezembro de 2022\n"
          ]
        }
      ]
    }
  ]
}